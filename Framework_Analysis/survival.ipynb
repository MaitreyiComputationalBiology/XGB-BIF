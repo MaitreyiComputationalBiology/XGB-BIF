!pip install lifelines
import pandas as pd
import numpy as np
import matplotlib.pyplot as plt
from lifelines import KaplanMeierFitter
from lifelines.statistics import logrank_test

# Load the data
df = pd.read_csv("/content/sample_data/TCGA-BRCA_patient_characteristics.csv")

# Step 1: Prepare survival data
# Define event time and event occurrence
df['event_observed'] = df['vital_status'].apply(lambda x: 1 if x == 'Dead' else 0)
df['event_time'] = df.apply(
    lambda row: row['days_to_death'] if not np.isnan(row['days_to_death']) else row['days_to_last_followup'],
    axis=1
)

# Drop rows with missing event time or pathologic_stage
df_clean = df.dropna(subset=['event_time', 'BRCA_Subtype_PAM50'])

# Step 2: Kaplan-Meier Plot by pathologic stage
kmf = KaplanMeierFitter()

plt.figure(figsize=(10, 6))
for stage in df_clean['BRCA_Subtype_PAM50'].unique():
    stage_data = df_clean[df_clean['BRCA_Subtype_PAM50'] == stage]
    kmf.fit(durations=stage_data['event_time'], event_observed=stage_data['event_observed'], label=stage)
    kmf.plot_survival_function(ci_show=False)

plt.title('Kaplan-Meier Survival Curve by BRCA Subtype')
plt.xlabel('Days')
plt.ylabel('Survival Probability')
plt.legend(title='BCRA_Subtype_Classification')
plt.grid(True)
plt.tight_layout()
plt.show()

import pandas as pd
from lifelines.statistics import logrank_test, multivariate_logrank_test
from lifelines import KaplanMeierFitter
import matplotlib.pyplot as plt



# Create 'event' and 'time' columns
df['event'] = df['vital_status'].apply(lambda x: 1 if x == 'Dead' else 0)
df['time'] = df.apply(lambda row: row['days_to_death'] if row['event'] == 1 else row['days_to_last_followup'], axis=1)

# Drop rows with missing values
df = df[['time', 'event', 'BRCA_Subtype_PAM50']].dropna()

# Kaplan-Meier Curve by Subtype
kmf = KaplanMeierFitter()
plt.figure(figsize=(12, 6))
for subtype in df['BRCA_Subtype_PAM50'].unique():
    subset = df[df['BRCA_Subtype_PAM50'] == subtype]
    kmf.fit(subset['time'], event_observed=subset['event'], label=subtype)
    kmf.plot_survival_function(ci_show=False)

plt.title('Kaplan-Meier Survival Curve by BRCA Subtype (PAM50)')
plt.xlabel('Days')
plt.ylabel('Survival Probability')
plt.grid(True)
plt.legend(title="Subtype")
plt.tight_layout()
plt.show()

# Log-rank test across all subtypes
results = multivariate_logrank_test(df['time'], df['BRCA_Subtype_PAM50'], df['event'])
print(results.summary)
# Display the p-value matrix
print(results.summary)

from lifelines import CoxPHFitter

# One-hot encode categorical variable
df_encoded = pd.get_dummies(df, columns=['BRCA_Subtype_PAM50'], drop_first=True)

# Fit Cox model
cph = CoxPHFitter()
cph.fit(df_encoded, duration_col='time', event_col='event')

# Show results
cph.print_summary()
# Plot the hazard ratios
cph.plot()
plt.title("Cox Proportional Hazards Model - Hazard Ratios")
plt.tight_layout()
plt.show()
